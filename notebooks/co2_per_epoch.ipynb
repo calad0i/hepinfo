{
 "cells": [
  {
   "cell_type": "code",
   "execution_count": 1,
   "metadata": {},
   "outputs": [],
   "source": [
    "import time\n",
    "from codecarbon import OfflineEmissionsTracker\n",
    "from hepinfo.models.MiVAE import MiVAE\n",
    "import numpy as np\n",
    "from sklearn.preprocessing import MinMaxScaler"
   ]
  },
  {
   "cell_type": "code",
   "execution_count": 2,
   "metadata": {},
   "outputs": [],
   "source": [
    "global nPV, X, MiVAE_model, num_data"
   ]
  },
  {
   "cell_type": "code",
   "execution_count": 3,
   "metadata": {},
   "outputs": [],
   "source": [
    "def measure_co2_emissions():\n",
    "    \"\"\"\n",
    "    Measure CO2 emissions from a function call using CodeCarbon.\n",
    "    \"\"\"\n",
    "    tracker = OfflineEmissionsTracker(country_iso_code=\"USA\")  # Replace with your country ISO code\n",
    "    tracker.start()\n",
    "\n",
    "    try:\n",
    "        start_time = time.time()\n",
    "        MiVAE_model.fit(X[:num_data], nPV[:num_data])\n",
    "        end_time = time.time()\n",
    "    finally:\n",
    "        emissions: float = tracker.stop()\n",
    "    print(emissions)\n",
    "\n",
    "    runtime = end_time - start_time\n",
    "    print(f\"Function runtime: {runtime:.2f} seconds\")\n",
    "    print(f\"Estimated CO2 emissions: {emissions:.6f} kg\")\n",
    "    return emissions, runtime"
   ]
  },
  {
   "cell_type": "code",
   "execution_count": 4,
   "metadata": {},
   "outputs": [],
   "source": [
    "# load data and setup model\n",
    "normal_data = np.load(\"../data/normal_data.npy\", allow_pickle=True)\n",
    "\n",
    "nPV = normal_data[:,0]\n",
    "X = normal_data[:,1:]\n",
    "scaler = MinMaxScaler()\n",
    "X = scaler.fit_transform(X)\n"
   ]
  },
  {
   "cell_type": "code",
   "execution_count": 6,
   "metadata": {},
   "outputs": [
    {
     "name": "stderr",
     "output_type": "stream",
     "text": [
      "[codecarbon INFO @ 23:26:22] offline tracker init\n",
      "[codecarbon INFO @ 23:26:22] [setup] RAM Tracking...\n",
      "[codecarbon INFO @ 23:26:22] [setup] CPU Tracking...\n",
      "[codecarbon WARNING @ 23:26:23] No CPU tracking mode found. Falling back on CPU constant mode. \n",
      " Mac OS and ARM processor detected: Please enable PowerMetrics sudo to measure CPU\n",
      "\n",
      "[codecarbon WARNING @ 23:26:23] We saw that you have a Apple M3 Pro but we don't know it. Please contact us.\n",
      "[codecarbon INFO @ 23:26:23] CPU Model on constant consumption mode: Apple M3 Pro\n",
      "[codecarbon INFO @ 23:26:23] [setup] GPU Tracking...\n",
      "[codecarbon INFO @ 23:26:23] No GPU found.\n",
      "[codecarbon INFO @ 23:26:23] >>> Tracker's metadata:\n",
      "[codecarbon INFO @ 23:26:23]   Platform system: macOS-14.3-arm64-arm-64bit\n",
      "[codecarbon INFO @ 23:26:23]   Python version: 3.11.8\n",
      "[codecarbon INFO @ 23:26:23]   CodeCarbon version: 2.8.2\n",
      "[codecarbon INFO @ 23:26:23]   Available RAM : 36.000 GB\n",
      "[codecarbon INFO @ 23:26:23]   CPU count: 11\n",
      "[codecarbon INFO @ 23:26:23]   CPU model: Apple M3 Pro\n",
      "[codecarbon INFO @ 23:26:23]   GPU count: None\n",
      "[codecarbon INFO @ 23:26:23]   GPU model: None\n",
      "[codecarbon INFO @ 23:26:23] Saving emissions data to file /Users/mariuskoppel/ml/miaxol1tl-github/notebooks/emissions.csv\n",
      "[codecarbon INFO @ 23:26:25] Energy consumed for RAM : 0.000009 kWh. RAM Power : 13.5 W\n",
      "[codecarbon INFO @ 23:26:25] Energy consumed for all CPUs : 0.000028 kWh. Total CPU Power : 42.5 W\n",
      "[codecarbon INFO @ 23:26:25] 0.000037 kWh of electricity used since the beginning.\n",
      "[codecarbon INFO @ 23:26:25] offline tracker init\n",
      "[codecarbon INFO @ 23:26:25] [setup] RAM Tracking...\n",
      "[codecarbon INFO @ 23:26:25] [setup] CPU Tracking...\n"
     ]
    },
    {
     "name": "stdout",
     "output_type": "stream",
     "text": [
      "1.3560207531705038e-05\n",
      "Function runtime: 2.36 seconds\n",
      "Estimated CO2 emissions: 0.000014 kg\n"
     ]
    },
    {
     "name": "stderr",
     "output_type": "stream",
     "text": [
      "[codecarbon WARNING @ 23:26:26] No CPU tracking mode found. Falling back on CPU constant mode. \n",
      " Mac OS and ARM processor detected: Please enable PowerMetrics sudo to measure CPU\n",
      "\n",
      "[codecarbon WARNING @ 23:26:26] We saw that you have a Apple M3 Pro but we don't know it. Please contact us.\n",
      "[codecarbon INFO @ 23:26:26] CPU Model on constant consumption mode: Apple M3 Pro\n",
      "[codecarbon INFO @ 23:26:26] [setup] GPU Tracking...\n",
      "[codecarbon INFO @ 23:26:26] No GPU found.\n",
      "[codecarbon INFO @ 23:26:26] >>> Tracker's metadata:\n",
      "[codecarbon INFO @ 23:26:26]   Platform system: macOS-14.3-arm64-arm-64bit\n",
      "[codecarbon INFO @ 23:26:26]   Python version: 3.11.8\n",
      "[codecarbon INFO @ 23:26:26]   CodeCarbon version: 2.8.2\n",
      "[codecarbon INFO @ 23:26:26]   Available RAM : 36.000 GB\n",
      "[codecarbon INFO @ 23:26:26]   CPU count: 11\n",
      "[codecarbon INFO @ 23:26:26]   CPU model: Apple M3 Pro\n",
      "[codecarbon INFO @ 23:26:26]   GPU count: None\n",
      "[codecarbon INFO @ 23:26:26]   GPU model: None\n",
      "[codecarbon INFO @ 23:26:26] Saving emissions data to file /Users/mariuskoppel/ml/miaxol1tl-github/notebooks/emissions.csv\n",
      "[codecarbon INFO @ 23:26:28] Energy consumed for RAM : 0.000011 kWh. RAM Power : 13.5 W\n",
      "[codecarbon INFO @ 23:26:28] Energy consumed for all CPUs : 0.000033 kWh. Total CPU Power : 42.5 W\n",
      "[codecarbon INFO @ 23:26:28] 0.000044 kWh of electricity used since the beginning.\n",
      "[codecarbon INFO @ 23:26:28] offline tracker init\n",
      "[codecarbon INFO @ 23:26:28] [setup] RAM Tracking...\n",
      "[codecarbon INFO @ 23:26:28] [setup] CPU Tracking...\n"
     ]
    },
    {
     "name": "stdout",
     "output_type": "stream",
     "text": [
      "1.625494298995718e-05\n",
      "Function runtime: 2.83 seconds\n",
      "Estimated CO2 emissions: 0.000016 kg\n"
     ]
    },
    {
     "name": "stderr",
     "output_type": "stream",
     "text": [
      "[codecarbon WARNING @ 23:26:29] No CPU tracking mode found. Falling back on CPU constant mode. \n",
      " Mac OS and ARM processor detected: Please enable PowerMetrics sudo to measure CPU\n",
      "\n",
      "[codecarbon WARNING @ 23:26:29] We saw that you have a Apple M3 Pro but we don't know it. Please contact us.\n",
      "[codecarbon INFO @ 23:26:29] CPU Model on constant consumption mode: Apple M3 Pro\n",
      "[codecarbon INFO @ 23:26:29] [setup] GPU Tracking...\n",
      "[codecarbon INFO @ 23:26:29] No GPU found.\n",
      "[codecarbon INFO @ 23:26:29] >>> Tracker's metadata:\n",
      "[codecarbon INFO @ 23:26:29]   Platform system: macOS-14.3-arm64-arm-64bit\n",
      "[codecarbon INFO @ 23:26:29]   Python version: 3.11.8\n",
      "[codecarbon INFO @ 23:26:29]   CodeCarbon version: 2.8.2\n",
      "[codecarbon INFO @ 23:26:29]   Available RAM : 36.000 GB\n",
      "[codecarbon INFO @ 23:26:29]   CPU count: 11\n",
      "[codecarbon INFO @ 23:26:29]   CPU model: Apple M3 Pro\n",
      "[codecarbon INFO @ 23:26:29]   GPU count: None\n",
      "[codecarbon INFO @ 23:26:29]   GPU model: None\n",
      "[codecarbon INFO @ 23:26:29] Saving emissions data to file /Users/mariuskoppel/ml/miaxol1tl-github/notebooks/emissions.csv\n",
      "[codecarbon INFO @ 23:26:38] Energy consumed for RAM : 0.000032 kWh. RAM Power : 13.5 W\n",
      "[codecarbon INFO @ 23:26:38] Energy consumed for all CPUs : 0.000102 kWh. Total CPU Power : 42.5 W\n",
      "[codecarbon INFO @ 23:26:38] 0.000135 kWh of electricity used since the beginning.\n",
      "[codecarbon INFO @ 23:26:38] offline tracker init\n",
      "[codecarbon INFO @ 23:26:38] [setup] RAM Tracking...\n",
      "[codecarbon INFO @ 23:26:38] [setup] CPU Tracking...\n"
     ]
    },
    {
     "name": "stdout",
     "output_type": "stream",
     "text": [
      "4.9766447321234704e-05\n",
      "Function runtime: 8.66 seconds\n",
      "Estimated CO2 emissions: 0.000050 kg\n"
     ]
    },
    {
     "name": "stderr",
     "output_type": "stream",
     "text": [
      "[codecarbon WARNING @ 23:26:38] No CPU tracking mode found. Falling back on CPU constant mode. \n",
      " Mac OS and ARM processor detected: Please enable PowerMetrics sudo to measure CPU\n",
      "\n",
      "[codecarbon WARNING @ 23:26:38] We saw that you have a Apple M3 Pro but we don't know it. Please contact us.\n",
      "[codecarbon INFO @ 23:26:38] CPU Model on constant consumption mode: Apple M3 Pro\n",
      "[codecarbon INFO @ 23:26:38] [setup] GPU Tracking...\n",
      "[codecarbon INFO @ 23:26:38] No GPU found.\n",
      "[codecarbon INFO @ 23:26:38] >>> Tracker's metadata:\n",
      "[codecarbon INFO @ 23:26:38]   Platform system: macOS-14.3-arm64-arm-64bit\n",
      "[codecarbon INFO @ 23:26:38]   Python version: 3.11.8\n",
      "[codecarbon INFO @ 23:26:38]   CodeCarbon version: 2.8.2\n",
      "[codecarbon INFO @ 23:26:38]   Available RAM : 36.000 GB\n",
      "[codecarbon INFO @ 23:26:38]   CPU count: 11\n",
      "[codecarbon INFO @ 23:26:38]   CPU model: Apple M3 Pro\n",
      "[codecarbon INFO @ 23:26:38]   GPU count: None\n",
      "[codecarbon INFO @ 23:26:38]   GPU model: None\n",
      "[codecarbon INFO @ 23:26:38] Saving emissions data to file /Users/mariuskoppel/ml/miaxol1tl-github/notebooks/emissions.csv\n"
     ]
    },
    {
     "ename": "",
     "evalue": "",
     "output_type": "error",
     "traceback": [
      "\u001b[1;31mDer Kernel ist beim Ausführen von Code in der aktuellen Zelle oder einer vorherigen Zelle abgestürzt. \n",
      "\u001b[1;31mBitte überprüfen Sie den Code in der/den Zelle(n), um eine mögliche Fehlerursache zu identifizieren. \n",
      "\u001b[1;31mKlicken Sie <a href='https://aka.ms/vscodeJupyterKernelCrash'>hier</a>, um weitere Informationen zu erhalten. \n",
      "\u001b[1;31mWeitere Informationen finden Sie unter Jupyter <a href='command:jupyter.viewOutput'>Protokoll</a>."
     ]
    }
   ],
   "source": [
    "list_emissions = []\n",
    "list_runtimes = []\n",
    "for batch in [32, 64, 128, 256]:\n",
    "    for epoch in [10, 100, 1000]:\n",
    "        for instance in [100, 1000, 10000, 100000]:\n",
    "            for layers in [[4, 2], [8, 4], [16, 8], [32, 16], [64, 32]]:\n",
    "                num_data = instance\n",
    "                MiVAE_model = MiVAE(hidden_layers=layers, verbose=0, epoch=epoch, batch_size=batch, run_eagerly=False)\n",
    "                emissions, runtime = measure_co2_emissions()\n",
    "                list_emissions.append(emissions)\n",
    "                list_runtimes.append(runtime)\n"
   ]
  },
  {
   "cell_type": "code",
   "execution_count": null,
   "metadata": {},
   "outputs": [],
   "source": []
  }
 ],
 "metadata": {
  "kernelspec": {
   "display_name": "base",
   "language": "python",
   "name": "python3"
  },
  "language_info": {
   "codemirror_mode": {
    "name": "ipython",
    "version": 3
   },
   "file_extension": ".py",
   "mimetype": "text/x-python",
   "name": "python",
   "nbconvert_exporter": "python",
   "pygments_lexer": "ipython3",
   "version": "3.11.8"
  }
 },
 "nbformat": 4,
 "nbformat_minor": 2
}
