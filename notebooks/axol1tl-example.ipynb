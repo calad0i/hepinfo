{
 "cells": [
  {
   "cell_type": "code",
   "execution_count": 1,
   "metadata": {},
   "outputs": [
    {
     "ename": "ModuleNotFoundError",
     "evalue": "No module named 'hepinfo.models'",
     "output_type": "error",
     "traceback": [
      "\u001b[0;31m---------------------------------------------------------------------------\u001b[0m",
      "\u001b[0;31mModuleNotFoundError\u001b[0m                       Traceback (most recent call last)",
      "Cell \u001b[0;32mIn[1], line 6\u001b[0m\n\u001b[1;32m      3\u001b[0m \u001b[38;5;28;01mimport\u001b[39;00m \u001b[38;5;21;01mnumpy\u001b[39;00m \u001b[38;5;28;01mas\u001b[39;00m \u001b[38;5;21;01mnp\u001b[39;00m\n\u001b[1;32m      4\u001b[0m \u001b[38;5;28;01mimport\u001b[39;00m \u001b[38;5;21;01mawkward\u001b[39;00m \u001b[38;5;28;01mas\u001b[39;00m \u001b[38;5;21;01mak\u001b[39;00m\n\u001b[0;32m----> 6\u001b[0m \u001b[38;5;28;01mimport\u001b[39;00m \u001b[38;5;21;01mhepinfo\u001b[39;00m\u001b[38;5;21;01m.\u001b[39;00m\u001b[38;5;21;01mmodels\u001b[39;00m\n\u001b[1;32m      7\u001b[0m \u001b[38;5;28;01mfrom\u001b[39;00m \u001b[38;5;21;01mhepinfo\u001b[39;00m\u001b[38;5;21;01m.\u001b[39;00m\u001b[38;5;21;01mutil\u001b[39;00m \u001b[38;5;28;01mimport\u001b[39;00m readFromAnomalyBackgroundh5, awkward_to_numpy\n\u001b[1;32m      9\u001b[0m \u001b[38;5;28;01mfrom\u001b[39;00m \u001b[38;5;21;01mqkeras\u001b[39;00m \u001b[38;5;28;01mimport\u001b[39;00m quantized_bits\n",
      "\u001b[0;31mModuleNotFoundError\u001b[0m: No module named 'hepinfo.models'"
     ]
    }
   ],
   "source": [
    "import h5py\n",
    "\n",
    "import numpy as np\n",
    "import awkward as ak\n",
    "\n",
    "import hepinfo.models\n",
    "from hepinfo.util import readFromAnomalyBackgroundh5, awkward_to_numpy\n",
    "\n",
    "from qkeras import quantized_bits"
   ]
  },
  {
   "cell_type": "code",
   "execution_count": 10,
   "metadata": {},
   "outputs": [
    {
     "ename": "NameError",
     "evalue": "name 'readFromAnomalyBackgroundh5' is not defined",
     "output_type": "error",
     "traceback": [
      "\u001b[0;31m---------------------------------------------------------------------------\u001b[0m",
      "\u001b[0;31mNameError\u001b[0m                                 Traceback (most recent call last)",
      "Cell \u001b[0;32mIn[10], line 9\u001b[0m\n\u001b[1;32m      4\u001b[0m NJET\u001b[38;5;241m=\u001b[39m\u001b[38;5;241m10\u001b[39m\n\u001b[1;32m      6\u001b[0m \u001b[38;5;66;03m# To load BSM signal files, for now look at data only\u001b[39;00m\n\u001b[1;32m      7\u001b[0m \u001b[38;5;66;03m# process=\"GluGluHToBB_M-125\"\u001b[39;00m\n\u001b[1;32m      8\u001b[0m \u001b[38;5;66;03m# X_signal =readFromAnomalySignalh5('2024E-BSM.h5', process=process, object_ranges='default2') #to load signal\u001b[39;00m\n\u001b[0;32m----> 9\u001b[0m X \u001b[38;5;241m=\u001b[39m \u001b[43mreadFromAnomalyBackgroundh5\u001b[49m(\u001b[38;5;124m'\u001b[39m\u001b[38;5;124mrun370293.h5\u001b[39m\u001b[38;5;124m'\u001b[39m, object_ranges\u001b[38;5;241m=\u001b[39m\u001b[38;5;124m'\u001b[39m\u001b[38;5;124mdefault2\u001b[39m\u001b[38;5;124m'\u001b[39m)\n\u001b[1;32m     11\u001b[0m X_flat \u001b[38;5;241m=\u001b[39m np\u001b[38;5;241m.\u001b[39mzeros((X[\u001b[38;5;241m0\u001b[39m][\u001b[38;5;124m'\u001b[39m\u001b[38;5;124mnEvents\u001b[39m\u001b[38;5;124m'\u001b[39m], \u001b[38;5;241m57\u001b[39m), dtype\u001b[38;5;241m=\u001b[39m\u001b[38;5;124m'\u001b[39m\u001b[38;5;124mint\u001b[39m\u001b[38;5;124m'\u001b[39m)\n\u001b[1;32m     12\u001b[0m X_flat[:,\u001b[38;5;241m0\u001b[39m] \u001b[38;5;241m=\u001b[39m ak\u001b[38;5;241m.\u001b[39mflatten(X[\u001b[38;5;241m2\u001b[39m]\u001b[38;5;241m.\u001b[39msums[:]\u001b[38;5;241m.\u001b[39mpt)\n",
      "\u001b[0;31mNameError\u001b[0m: name 'readFromAnomalyBackgroundh5' is not defined"
     ]
    }
   ],
   "source": [
    "# prepare dataset for inference\n",
    "NEG=4\n",
    "NMU=4\n",
    "NJET=10\n",
    "\n",
    "# To load BSM signal files, for now look at data only\n",
    "# process=\"GluGluHToBB_M-125\"\n",
    "# X_signal =readFromAnomalySignalh5('2024E-BSM.h5', process=process, object_ranges='default2') #to load signal\n",
    "X = readFromAnomalyBackgroundh5('run370293.h5', object_ranges='default2')\n",
    "\n",
    "X_flat = np.zeros((X[0]['nEvents'], 57), dtype='int')\n",
    "X_flat[:,0] = ak.flatten(X[2].sums[:].pt)\n",
    "X_flat[:,2] = ak.flatten(X[2].sums[:].phi)\n",
    "X_flat[:,3:3+3*(NEG)] = awkward_to_numpy(X[2].egs, NEG)\n",
    "X_flat[:,3+3*(NEG):3+3*(NMU+NEG)] = awkward_to_numpy(X[2].muons, NMU)\n",
    "X_flat[:,3+3*(NMU+NEG):3+3*(NMU+NEG+NJET)] = awkward_to_numpy(X[2].jets, NJET)"
   ]
  },
  {
   "cell_type": "code",
   "execution_count": null,
   "metadata": {},
   "outputs": [],
   "source": [
    " # load model and scaling parameters\n",
    "input_quantizer = quantized_bits(8,5,alpha=1)\n",
    "scales = h5py.File('scales.h5')\n",
    "scale_data = scales['norm_scale'][:].flatten()\n",
    "offset_data = scales['norm_bias'][:].flatten()\n",
    "nPV = ak.to_numpy(X[1]['nPV'])\n",
    "nPV_Good = ak.to_numpy(X[1]['nPV_Good'])\n",
    "X_scaled = input_quantizer((X_flat.astype('float') - offset_data) / scale_data)\n",
    "batch_size = len(X_scaled)"
   ]
  }
 ],
 "metadata": {
  "kernelspec": {
   "display_name": "base",
   "language": "python",
   "name": "python3"
  },
  "language_info": {
   "codemirror_mode": {
    "name": "ipython",
    "version": 3
   },
   "file_extension": ".py",
   "mimetype": "text/x-python",
   "name": "python",
   "nbconvert_exporter": "python",
   "pygments_lexer": "ipython3",
   "version": "3.11.8"
  }
 },
 "nbformat": 4,
 "nbformat_minor": 2
}
